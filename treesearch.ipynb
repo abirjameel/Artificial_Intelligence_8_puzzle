{
 "cells": [
  {
   "cell_type": "code",
   "execution_count": 1,
   "metadata": {},
   "outputs": [],
   "source": [
    "import queue as Q\n",
    "import time\n",
    "# import resource\n",
    "import sys\n",
    "import math\n",
    "\n",
    "#### SKELETON CODE ####\n",
    "\n",
    "## The Class that Represents the Puzzle\n",
    "\n",
    "class PuzzleState(object):\n",
    "\n",
    "    \"\"\"docstring for PuzzleState\"\"\"\n",
    "\n",
    "    def __init__(self, config, n, parent=None, action=\"Initial\", cost=0):\n",
    "\n",
    "        if n*n != len(config) or n < 2:\n",
    "\n",
    "            raise Exception(\"the length of config is not correct!\")\n",
    "\n",
    "        self.n = n\n",
    "\n",
    "        self.cost = cost\n",
    "\n",
    "        self.parent = parent\n",
    "\n",
    "        self.action = action\n",
    "\n",
    "        self.dimension = n\n",
    "\n",
    "        self.config = config\n",
    "\n",
    "        self.children = []\n",
    "\n",
    "        for i, item in enumerate(self.config):\n",
    "\n",
    "            if item == 0:\n",
    "\n",
    "                self.blank_row = int(i / self.n)\n",
    "\n",
    "                self.blank_col = int(i % self.n)\n",
    "\n",
    "                break\n",
    "\n",
    "    def display(self):\n",
    "\n",
    "        for i in range(self.n):\n",
    "\n",
    "            line = []\n",
    "\n",
    "            offset = i * self.n\n",
    "\n",
    "            for j in range(self.n):\n",
    "\n",
    "                line.append(self.config[offset + j])\n",
    "\n",
    "            print (line)\n",
    "\n",
    "    def move_left(self):\n",
    "\n",
    "        if self.blank_col == 0:\n",
    "\n",
    "            return None\n",
    "\n",
    "        else:\n",
    "\n",
    "            blank_index = self.blank_row * self.n + self.blank_col\n",
    "\n",
    "            target = blank_index - 1\n",
    "\n",
    "            new_config = list(self.config)\n",
    "\n",
    "            new_config[blank_index], new_config[target] = new_config[target], new_config[blank_index]\n",
    "\n",
    "            return PuzzleState(tuple(new_config), self.n, parent=self, action=\"Left\", cost=self.cost + 1)\n",
    "\n",
    "    def move_right(self):\n",
    "\n",
    "        if self.blank_col == self.n - 1:\n",
    "\n",
    "            return None\n",
    "\n",
    "        else:\n",
    "\n",
    "            blank_index = self.blank_row * self.n + self.blank_col\n",
    "\n",
    "            target = blank_index + 1\n",
    "\n",
    "            new_config = list(self.config)\n",
    "\n",
    "            new_config[blank_index], new_config[target] = new_config[target], new_config[blank_index]\n",
    "\n",
    "            return PuzzleState(tuple(new_config), self.n, parent=self, action=\"Right\", cost=self.cost + 1)\n",
    "\n",
    "    def move_up(self):\n",
    "\n",
    "        if self.blank_row == 0:\n",
    "\n",
    "            return None\n",
    "\n",
    "        else:\n",
    "\n",
    "            blank_index = self.blank_row * self.n + self.blank_col\n",
    "\n",
    "            target = blank_index - self.n\n",
    "\n",
    "            new_config = list(self.config)\n",
    "\n",
    "            new_config[blank_index], new_config[target] = new_config[target], new_config[blank_index]\n",
    "\n",
    "            return PuzzleState(tuple(new_config), self.n, parent=self, action=\"Up\", cost=self.cost + 1)\n",
    "\n",
    "    def move_down(self):\n",
    "\n",
    "        if self.blank_row == self.n - 1:\n",
    "\n",
    "            return None\n",
    "\n",
    "        else:\n",
    "\n",
    "            blank_index = self.blank_row * self.n + self.blank_col\n",
    "\n",
    "            target = blank_index + self.n\n",
    "\n",
    "            new_config = list(self.config)\n",
    "\n",
    "            new_config[blank_index], new_config[target] = new_config[target], new_config[blank_index]\n",
    "\n",
    "            return PuzzleState(tuple(new_config), self.n, parent=self, action=\"Down\", cost=self.cost + 1)\n",
    "\n",
    "    def expand(self):\n",
    "\n",
    "        \"\"\"expand the node\"\"\"\n",
    "\n",
    "        # add child nodes in order of UDLR\n",
    "\n",
    "        if len(self.children) == 0:\n",
    "\n",
    "            up_child = self.move_up()\n",
    "\n",
    "            if up_child is not None:\n",
    "\n",
    "                self.children.append(up_child)\n",
    "\n",
    "            down_child = self.move_down()\n",
    "\n",
    "            if down_child is not None:\n",
    "\n",
    "                self.children.append(down_child)\n",
    "\n",
    "            left_child = self.move_left()\n",
    "\n",
    "            if left_child is not None:\n",
    "\n",
    "                self.children.append(left_child)\n",
    "\n",
    "            right_child = self.move_right()\n",
    "\n",
    "            if right_child is not None:\n",
    "\n",
    "                self.children.append(right_child)\n",
    "\n",
    "        return self.children"
   ]
  },
  {
   "cell_type": "code",
   "execution_count": 39,
   "metadata": {},
   "outputs": [],
   "source": [
    "begin_state = tuple(map(int, [1,2,0,3,4,5,6,7,8]))\n",
    "\n",
    "size = int(math.sqrt(len(begin_state)))\n",
    "\n",
    "hard_state = PuzzleState(begin_state, size)"
   ]
  },
  {
   "cell_type": "code",
   "execution_count": 42,
   "metadata": {},
   "outputs": [],
   "source": [
    "def test_goal(config):\n",
    "    if config==(0,1,2,3,4,5,6,7,8):\n",
    "        return True\n",
    "    else :\n",
    "        return False\n",
    "    \n",
    "def get_path(final_state):\n",
    "    path = []\n",
    "    cost = 0\n",
    "    current_state = final_state\n",
    "    while current_state.parent:\n",
    "        path.append(current_state.action)\n",
    "        cost += 1\n",
    "        current_state = current_state.parent\n",
    "    path.reverse()\n",
    "    return path, len(path), cost"
   ]
  },
  {
   "cell_type": "code",
   "execution_count": null,
   "metadata": {},
   "outputs": [],
   "source": [
    "from collections import deque"
   ]
  },
  {
   "cell_type": "code",
   "execution_count": 19,
   "metadata": {},
   "outputs": [],
   "source": [
    "q = Q.LifoQueue()"
   ]
  },
  {
   "cell_type": "code",
   "execution_count": 22,
   "metadata": {},
   "outputs": [],
   "source": [
    "q.put(3)"
   ]
  },
  {
   "cell_type": "code",
   "execution_count": 26,
   "metadata": {},
   "outputs": [
    {
     "data": {
      "text/plain": [
       "1"
      ]
     },
     "execution_count": 26,
     "metadata": {},
     "output_type": "execute_result"
    }
   ],
   "source": [
    "q.get()"
   ]
  },
  {
   "cell_type": "code",
   "execution_count": 27,
   "metadata": {},
   "outputs": [],
   "source": [
    "def bfs_search(initial_state):\n",
    "    frontier = Q.Queue()\n",
    "    frontier.put(initial_state)\n",
    "    fronexplored = set()\n",
    "    nodesExpand = 0\n",
    "    while frontier:\n",
    "        board = frontier.get()\n",
    "        fronexplored.add(board.config)\n",
    "        print(board.display())\n",
    "        if test_goal(board.config):\n",
    "            path, depth, cost = get_path(board)\n",
    "            print(\"Bingo!! I found the solution..\")\n",
    "            print(f\"Solution Path  : {path}\")\n",
    "            print(f\"Solution Depth  : {depth}\")\n",
    "            print(f\"Solution Cost  : {cost}\")\n",
    "            print(f\"Nodes Expanded  : {nodesExpand}\")\n",
    "            return board.display()\n",
    "        \n",
    "        for neighbour in list(board.expand()):\n",
    "            \n",
    "            if neighbour.config not in fronexplored:\n",
    "                \n",
    "                frontier.put(neighbour)\n",
    "                fronexplored.add(neighbour.config)\n",
    "        nodesExpand +=1\n",
    "    return True"
   ]
  },
  {
   "cell_type": "code",
   "execution_count": 43,
   "metadata": {},
   "outputs": [
    {
     "name": "stdout",
     "output_type": "stream",
     "text": [
      "[1, 2, 0]\n",
      "[3, 4, 5]\n",
      "[6, 7, 8]\n",
      "None\n",
      "[1, 2, 5]\n",
      "[3, 4, 0]\n",
      "[6, 7, 8]\n",
      "None\n",
      "[1, 0, 2]\n",
      "[3, 4, 5]\n",
      "[6, 7, 8]\n",
      "None\n",
      "[1, 2, 5]\n",
      "[3, 4, 8]\n",
      "[6, 7, 0]\n",
      "None\n",
      "[1, 2, 5]\n",
      "[3, 0, 4]\n",
      "[6, 7, 8]\n",
      "None\n",
      "[1, 4, 2]\n",
      "[3, 0, 5]\n",
      "[6, 7, 8]\n",
      "None\n",
      "[0, 1, 2]\n",
      "[3, 4, 5]\n",
      "[6, 7, 8]\n",
      "None\n",
      "Bingo!! I found the solution..\n",
      "Solution Path  : ['Left', 'Left']\n",
      "Solution Depth  : 2\n",
      "Solution Cost  : 2\n",
      "Nodes Expanded  : 6\n",
      "[0, 1, 2]\n",
      "[3, 4, 5]\n",
      "[6, 7, 8]\n"
     ]
    }
   ],
   "source": [
    "bfs_search(hard_state)"
   ]
  },
  {
   "cell_type": "code",
   "execution_count": 29,
   "metadata": {},
   "outputs": [
    {
     "ename": "ModuleNotFoundError",
     "evalue": "No module named 'memory_profiler'",
     "output_type": "error",
     "traceback": [
      "\u001b[1;31m---------------------------------------------------------------------------\u001b[0m",
      "\u001b[1;31mModuleNotFoundError\u001b[0m                       Traceback (most recent call last)",
      "\u001b[1;32m<ipython-input-29-58f9b13abf91>\u001b[0m in \u001b[0;36m<module>\u001b[1;34m()\u001b[0m\n\u001b[1;32m----> 1\u001b[1;33m \u001b[1;32mfrom\u001b[0m \u001b[0mmemory_profiler\u001b[0m \u001b[1;32mimport\u001b[0m \u001b[0mmemory_usage\u001b[0m\u001b[1;33m\u001b[0m\u001b[0m\n\u001b[0m",
      "\u001b[1;31mModuleNotFoundError\u001b[0m: No module named 'memory_profiler'"
     ]
    }
   ],
   "source": [
    "from memory_profiler import memory_usage"
   ]
  },
  {
   "cell_type": "code",
   "execution_count": 30,
   "metadata": {},
   "outputs": [],
   "source": [
    "def dfs_search(initial_state):\n",
    "    frontier = Q.LifoQueue()\n",
    "    frontier.put(initial_state)\n",
    "    fronexplored = set()\n",
    "    nodesExpand = 0\n",
    "    while frontier:\n",
    "        board = frontier.get()\n",
    "        fronexplored.add(board.config)\n",
    "        print(board.display())\n",
    "        if test_goal(board.config):\n",
    "            path, depth, cost = get_path(board)\n",
    "            print(\"Bingo!! I found the solution..\")\n",
    "            print(f\"Solution Path  : {path}\")\n",
    "            print(f\"Solution Depth  : {depth}\")\n",
    "            print(f\"Solution Cost  : {cost}\")\n",
    "            print(f\"Nodes Expanded  : {nodesExpand}\")\n",
    "            return board.display()\n",
    "        \n",
    "        for neighbour in list(board.expand()):\n",
    "            \n",
    "            if neighbour.config not in fronexplored:\n",
    "                \n",
    "                frontier.put(neighbour)\n",
    "                fronexplored.add(neighbour.config)\n",
    "        nodesExpand +=1\n",
    "    return True"
   ]
  },
  {
   "cell_type": "code",
   "execution_count": 44,
   "metadata": {},
   "outputs": [
    {
     "name": "stdout",
     "output_type": "stream",
     "text": [
      "[1, 2, 0]\n",
      "[3, 4, 5]\n",
      "[6, 7, 8]\n",
      "None\n",
      "[1, 0, 2]\n",
      "[3, 4, 5]\n",
      "[6, 7, 8]\n",
      "None\n",
      "[0, 1, 2]\n",
      "[3, 4, 5]\n",
      "[6, 7, 8]\n",
      "None\n",
      "Bingo!! I found the solution..\n",
      "Solution Path  : ['Left', 'Left']\n",
      "Solution Depth  : 2\n",
      "Solution Cost  : 2\n",
      "Nodes Expanded  : 2\n",
      "[0, 1, 2]\n",
      "[3, 4, 5]\n",
      "[6, 7, 8]\n"
     ]
    }
   ],
   "source": [
    "dfs_search(hard_state)"
   ]
  },
  {
   "cell_type": "code",
   "execution_count": null,
   "metadata": {
    "scrolled": true
   },
   "outputs": [],
   "source": [
    "l = 0\n",
    "for i in range(10):\n",
    "    l+= i\n",
    "    print(l)\n"
   ]
  },
  {
   "cell_type": "code",
   "execution_count": null,
   "metadata": {},
   "outputs": [],
   "source": []
  }
 ],
 "metadata": {
  "kernelspec": {
   "display_name": "Python 3",
   "language": "python",
   "name": "python3"
  },
  "language_info": {
   "codemirror_mode": {
    "name": "ipython",
    "version": 3
   },
   "file_extension": ".py",
   "mimetype": "text/x-python",
   "name": "python",
   "nbconvert_exporter": "python",
   "pygments_lexer": "ipython3",
   "version": "3.6.5"
  }
 },
 "nbformat": 4,
 "nbformat_minor": 2
}
